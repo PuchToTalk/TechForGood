{
  "nbformat": 4,
  "nbformat_minor": 0,
  "metadata": {
    "colab": {
      "provenance": [],
      "collapsed_sections": [
        "0mJeIX7Zi7-x",
        "94wC4taLkXcU",
        "Egm4PaUXHhBz",
        "tQwkQJjYJXXG",
        "1ydv4zJM2cwH",
        "v04GP97TTclH",
        "dUaGjOoC2bUD",
        "wZw_leGpBEpy"
      ],
      "authorship_tag": "ABX9TyN32lOeEhOQmg7xkMbx4V9n",
      "include_colab_link": true
    },
    "kernelspec": {
      "name": "python3",
      "display_name": "Python 3"
    },
    "language_info": {
      "name": "python"
    },
    "accelerator": "GPU",
    "gpuClass": "standard"
  },
  "cells": [
    {
      "cell_type": "markdown",
      "metadata": {
        "id": "view-in-github",
        "colab_type": "text"
      },
      "source": [
        "<a href=\"https://colab.research.google.com/github/PuchToTalk/Tickarbone/blob/main/Algo_calcul.ipynb\" target=\"_parent\"><img src=\"https://colab.research.google.com/assets/colab-badge.svg\" alt=\"Open In Colab\"/></a>"
      ]
    },
    {
      "cell_type": "markdown",
      "source": [
        "# **Système de calcul CarboLeg**\n",
        "\n",
        "*Made by*\n",
        "> **Paul Chu** <br>\n",
        "> **Bora Balos** <br>\n",
        "> **Clément Da Cruz** <br>\n",
        "\n"
      ],
      "metadata": {
        "id": "o2NkBRMZFQIS"
      }
    },
    {
      "cell_type": "markdown",
      "source": [
        "## **CALCUL FERME**\n"
      ],
      "metadata": {
        "id": "0mJeIX7Zi7-x"
      }
    },
    {
      "cell_type": "markdown",
      "source": [
        "\n",
        "\n",
        "> Em signifie « émissions » <br>\n",
        "> FE signifie « facteur d’émissions » \n",
        "\n"
      ],
      "metadata": {
        "id": "WZzbu_LpjNAA"
      }
    },
    {
      "cell_type": "code",
      "source": [
        "# valeurs fixes : valeurs connu de tous / d'après sources\n",
        "\n",
        "FE_elec = 0.06\n",
        "FE_gaz = 0.244\n",
        "val_serre_chauffee = 0 # /à compléter/ \n",
        "\n",
        "val_haie = 0 # /à compléter/\n",
        "val_foret = 0 # /à compléter/\n",
        "\n",
        "val_tracteur = 5000 / 10\n",
        "val_kangoo = 6000 / 10\n",
        "\n",
        "\n",
        "\n",
        "\n",
        "\n",
        "# user initialisation : valeurs renseigné par l'utilisateur\n",
        "\n",
        "conso_elec_an = input(\"Entrer la conso élec par année (en kgeqCO2) \")\n",
        "conso_gaz_an = input(\"Entrer la conso gaz par année (en kgeqCO2) \")\n",
        "serre_chauffee = input(\"Serre chauffee ? \\noui: True, non : False \")\n",
        "haie = input(\"Captage haie ? \\noui : True, non : False \")\n",
        "foret  = input(\"Captage forêt ? \\noui : True, non : False \")\n",
        "\n",
        "\n",
        "vehicule_liste = []\n",
        "\n",
        "nbr_vehicule = input(\"Entrer le nombre de véhicules de fabrication : \")\n",
        "for i in range(int(nbr_vehicule)):\n",
        "  vehicule = input(\"Entrer le nom du véhicule de fabrication: \")\n",
        "  vehicule_liste.append(vehicule.upper())\n",
        "#print(vehicule_liste)\n",
        "\n",
        "livraison_liste = []\n",
        "nbr_livraison = input(\"Entrer le nombre de véhicules de livraison : \")\n",
        "for i in range(int(nbr_livraison)):\n",
        "  livraison = input(\"Entrer le nom du véhicule de livraison : \")\n",
        "  livraison_liste.append(livraison.upper())\n",
        "#print(livraison_liste)\n",
        "\n",
        "\n",
        "\n",
        "\n",
        "# calcul (en se basant sur les 2 précédentes parties)\n",
        "\n",
        "\n",
        "EM_elec = FE_elec * float(conso_elec_an)\n",
        "EM_gaz = FE_gaz * float(conso_gaz_an)\n",
        "emission_serre = (val_serre_chauffee if serre_chauffee == True else 0)\n",
        "EM_prod_fabrication = (val_tracteur if \"TRACTEUR\" in vehicule_liste else 0) # rajouter les autres valeurs en imitant la même méthode\n",
        "EM_prod_livraison = (val_kangoo if \"KANGOO\" in livraison_liste else 0) # rajouter les autres valeurs en imitant la même méthode\n",
        "captage_haie = (val_haie if haie == True else 0)\n",
        "captage_foret = (val_foret if foret == True else 0)\n",
        "\n",
        "total_ferme = EM_elec + EM_gaz + EM_prod_fabrication + EM_prod_livraison + captage_haie + captage_foret\n",
        "print(\" --- \")\n",
        "\n",
        "print(f\"Le total émission carbone de la ferme donne {total_ferme} kgeqCO2\")\n"
      ],
      "metadata": {
        "colab": {
          "base_uri": "https://localhost:8080/"
        },
        "id": "t_PTJzUNU1zM",
        "outputId": "0e600aa2-4e4e-4a85-ece8-2fb81a9a7a9a"
      },
      "execution_count": null,
      "outputs": [
        {
          "output_type": "stream",
          "name": "stdout",
          "text": [
            "Entrer la conso élec par année (en kgeqCO2) 1200\n",
            "Entrer la conso gaz par année (en kgeqCO2) 500\n",
            "Serre chauffee ? \n",
            "oui: True, non : False False\n",
            "Captage haie ? \n",
            "oui : True, non : False False\n",
            "Captage forêt ? \n",
            "oui : True, non : False False\n",
            "Entrer le nombre de véhicules de fabrication : 1\n",
            "Entrer le nom du véhicule de fabrication: TRACTEUR\n",
            "Entrer le nombre de véhicules de livraison : 1\n",
            "Entrer le nom du véhicule de livraison : KANGOO\n",
            " --- \n",
            "Le total émission carbone de la ferme donne 1294.0 kgeqCO2\n"
          ]
        }
      ]
    },
    {
      "cell_type": "markdown",
      "source": [
        "## **CALCUL PAR PRODUIT**\n"
      ],
      "metadata": {
        "id": "lX8ZywYYkShB"
      }
    },
    {
      "cell_type": "markdown",
      "source": [
        "### *Emission serre :*\n"
      ],
      "metadata": {
        "id": "94wC4taLkXcU"
      }
    },
    {
      "cell_type": "code",
      "source": [
        "# valeurs fixes : valeurs connu de tous / d'après sources\n",
        "\n",
        "FE_serre_an = 9.96\n",
        "Amort_serre_an = 20.0\n",
        "\n",
        "\n",
        "# user initialisation : valeurs renseigné par l'utilisateur\n",
        "\n",
        "S_serre = input(\"Entrer la surface de la serre (en m carrée) : \")\n",
        "\n",
        "\n",
        "\n",
        "legume_liste = []\n",
        "nbr_legume = input(\"Entrer le nombre de légumes : \")\n",
        "for i in range(int(nbr_legume)):\n",
        "  legume = input(\"Entrer le nom du légume : \")\n",
        "  legume_liste.append(legume.upper())\n",
        "#print(legume_liste)\n",
        "\n",
        "surface_liste = []\n",
        "for i in range(int(nbr_legume)):\n",
        "  S_legume = input(\"Entrer la surface de la serre prise par le légume (en m carrée) \")\n",
        "  surface_liste.append(float(S_legume))\n",
        "\n",
        "\n",
        "\n",
        "\n",
        "# calcul (en se basant sur les 2 précédentes parties)\n",
        "EM_serre = float(S_serre) * FE_serre_an / Amort_serre_an\n",
        "\n",
        "CR_serre = []\n",
        "for i in range(int(nbr_legume)):\n",
        "  CR_serre_legume = float(surface_liste[i])/float(S_serre)\n",
        "  CR_serre.append(CR_serre_legume)\n",
        "\n",
        "EM_serre_legume = []\n",
        "for i in range(int(nbr_legume)):\n",
        "  EM_par_legume = EM_serre * CR_serre[i]\n",
        "  EM_serre_legume.append(EM_par_legume)\n",
        "\n",
        "\n",
        "print(\" --- \")\n",
        "\n",
        "print(f\"L'émission carbone de la serre pour {legume_liste[0]} donne {EM_serre_legume[0]} kgeqCO2. \\nCelle pour {legume_liste[1]} donne {EM_serre_legume[1]} kgeqCO2. \")\n"
      ],
      "metadata": {
        "colab": {
          "base_uri": "https://localhost:8080/"
        },
        "id": "FFn9XCktkRv4",
        "outputId": "7e94daaa-cf90-4965-df74-366a72b01bdf"
      },
      "execution_count": null,
      "outputs": [
        {
          "output_type": "stream",
          "name": "stdout",
          "text": [
            "Entrer la surface de la serre (en m carrée) : 1000\n",
            "Entrer le nombre de légumes : 2\n",
            "Entrer le nom du légume : tomate\n",
            "Entrer le nom du légume : pommes de terre\n",
            "Entrer la surface de la serre prise par le légume (en m carrée) 1000\n",
            "Entrer la surface de la serre prise par le légume (en m carrée) 0\n",
            " --- \n",
            "L'émission carbone de la serre pour tomate donne 498.0 kgeqCO2. \n",
            "Celle pour pommes de terre donne 0.0 kgeqCO2. \n"
          ]
        }
      ]
    },
    {
      "cell_type": "markdown",
      "source": [
        "### *Emission bâche :*\n"
      ],
      "metadata": {
        "id": "Egm4PaUXHhBz"
      }
    },
    {
      "cell_type": "code",
      "source": [
        "# valeurs fixes : valeurs connu de tous / d'après sources\n",
        "\n",
        "FE_bache_an = 2.7\n",
        "Amort_bache_an = 1.0\n",
        "\n",
        "\n",
        "# user initialisation : valeurs renseigné par l'utilisateur\n",
        "\n",
        "S_bache = input(\"Entrer la surface de la bâche (en m carrée) : \")\n",
        "\n",
        "\n",
        "\n",
        "\n",
        "\n",
        "s_bache_liste = []\n",
        "for i in range(int(nbr_legume)):\n",
        "  S_bache_legume = input(\"Entrer la surface de la bâche prise par le légume (en m carrée) \")\n",
        "  s_bache_liste.append(float(S_bache_legume))\n",
        "\n",
        "\n",
        "\n",
        "\n",
        "# calcul (en se basant sur les 2 précédentes parties)\n",
        "EM_bache = float(S_bache) * FE_bache_an / Amort_bache_an\n",
        "\n",
        "CR_bache = []\n",
        "for i in range(int(nbr_legume)):\n",
        "  CR_bache_legume = float(s_bache_liste[i])/float(S_bache)\n",
        "  CR_bache.append(CR_bache_legume)\n",
        "\n",
        "EM_bache_legume = []\n",
        "for i in range(int(nbr_legume)):\n",
        "  EM_bache_par_legume = EM_bache * CR_bache[i]\n",
        "  EM_bache_legume.append(EM_bache_par_legume)\n",
        "\n",
        "\n",
        "print(\" --- \")\n",
        "\n",
        "print(f\"L'émission carbone de la bâche pour {legume_liste[0]} donne {EM_bache_legume[0]} kgeqCO2. \\nCelle pour {legume_liste[1]} donne {EM_bache_legume[1]} kgeqCO2. \")\n"
      ],
      "metadata": {
        "colab": {
          "base_uri": "https://localhost:8080/"
        },
        "id": "Oc7a5XYPHjuP",
        "outputId": "6384fdc5-537c-4c2b-e9eb-8ed01e681fac"
      },
      "execution_count": null,
      "outputs": [
        {
          "output_type": "stream",
          "name": "stdout",
          "text": [
            "Entrer la surface de la bâche (en m carrée) : 525\n",
            "Entrer la surface de la bâche prise par le légume (en m carrée) 0\n",
            "Entrer la surface de la bâche prise par le légume (en m carrée) 525\n",
            " --- \n",
            "L'émission carbone de la bâche pour TOMATE donne 0.0 kgeqCO2. \n",
            "Celle pour POMMES DE TERRE donne 1417.5 kgeqCO2. \n"
          ]
        }
      ]
    },
    {
      "cell_type": "markdown",
      "source": [
        "### *Emission outils :*\n"
      ],
      "metadata": {
        "id": "tQwkQJjYJXXG"
      }
    },
    {
      "cell_type": "code",
      "source": [
        "# valeurs fixes : valeurs connu de tous / d'après sources\n",
        "\n",
        "gazole = 0.84 # en kg/L\n",
        "emission_gazole = 2.3 # en kgeqCO2 / kg\n",
        "\n",
        "\n",
        "# user initialisation : valeurs renseigné par l'utilisateur\n",
        "\n",
        "\n",
        "\n",
        "outils_liste = []\n",
        "nbr_outils = input(\"Entrer le nombre d'outils (max 2): \")\n",
        "for i in range(int(nbr_outils)):\n",
        "  outil = input(\"Entrer le nom de l'outil: \")\n",
        "  outils_liste.append(outil)\n",
        "#print(outils_liste)\n",
        "\n",
        "\n",
        "\n",
        "duree_outils_liste = []\n",
        "conso_outils_liste = []\n",
        "for i in range(int(nbr_outils)):\n",
        "  duree_outil = input(\"Entrer la durée d'utilisation de l'outil (en h) : \")\n",
        "  duree_outils_liste.append(float(duree_outil))\n",
        "  conso_outil = input(\"Entrer la consommation (en L/h) de l'outil : \")\n",
        "  conso_outils_liste.append(float(conso_outil))\n",
        "\n",
        "\n",
        "\n",
        "print(duree_outils_liste)\n",
        "print(conso_outils_liste)\n",
        "\n",
        "\n",
        "\n",
        "\n",
        "\n",
        "# calcul (en se basant sur les 2 précédentes parties)\n",
        "\n",
        "\n",
        "EM_outils = []\n",
        "EM_outils_legumes = []\n",
        "Ttot_outil_liste = []\n",
        "CR_outil_liste = []\n",
        "\n",
        "for i in range(int(nbr_outils)):\n",
        "  EM_outil = float(conso_outils_liste[i]) * gazole * emission_gazole * float(duree_outils_liste[i])\n",
        "  EM_outils.append(EM_outil)\n",
        "  \n",
        "  for j in range(int(nbr_legume)):\n",
        "    Ttot_outil_legume = input(\"Entrer la durée d'utilisation (en h) de l'outil sur le légume \")\n",
        "    Ttot_outil_liste.append(float(Ttot_outil_legume))\n",
        "    \n",
        "    CR_outil = Ttot_outil_liste[j+2*i]/duree_outils_liste[i]\n",
        "    CR_outil_liste.append(float(CR_outil))\n",
        "\n",
        "print(EM_outils)\n",
        "print(CR_outil_liste)\n",
        "\n",
        "\n",
        "EM_herse_legume1 = EM_outils[0] * CR_outil_liste[0]\n",
        "EM_herse_legume2 = EM_outils[0] * CR_outil_liste[1]\n",
        "EM_broyeur_legume1 = EM_outils[1] * CR_outil_liste[2]\n",
        "EM_broyeur_legume2 = EM_outils[1] * CR_outil_liste[3]\n",
        "\n",
        "\n",
        "\n",
        "\n",
        "print(\" --- \")\n",
        "\n",
        "print(f\"L'émission carbone pour {outils_liste[0]} avec {legume_liste[0]} donne {EM_herse_legume1} kgeqCO2. Et avec {legume_liste[1]} on a {EM_herse_legume2} kgeqCO2. \\nL'émission carbone pour {outils_liste[1]} avec {legume_liste[0]} donne {EM_broyeur_legume1} kgeqCO2. Et avec {legume_liste[1]} on a {EM_broyeur_legume2} kgeqCO2. \")"
      ],
      "metadata": {
        "colab": {
          "base_uri": "https://localhost:8080/"
        },
        "id": "ukl_rZeEJZwp",
        "outputId": "9d3e36d9-8a5d-410b-c97f-b761aeba8b9d"
      },
      "execution_count": null,
      "outputs": [
        {
          "output_type": "stream",
          "name": "stdout",
          "text": [
            "Entrer le nombre d'outils (max 2): 2\n",
            "Entrer le nom de l'outil: HERSE\n",
            "Entrer le nom de l'outil: BROYEUR\n",
            "Entrer la durée d'utilisation de l'outil (en h) : 10\n",
            "Entrer la consommation (en L/h) de l'outil : 12\n",
            "Entrer la durée d'utilisation de l'outil (en h) : 7\n",
            "Entrer la consommation (en L/h) de l'outil : 25\n",
            "[10.0, 7.0]\n",
            "[12.0, 25.0]\n",
            "Entrer la durée d'utilisation (en h) de l'outil sur le légume 0\n",
            "Entrer la durée d'utilisation (en h) de l'outil sur le légume 10\n",
            "Entrer la durée d'utilisation (en h) de l'outil sur le légume 2\n",
            "Entrer la durée d'utilisation (en h) de l'outil sur le légume 5\n",
            "[231.83999999999997, 338.09999999999997]\n",
            "[0.0, 1.0, 0.2857142857142857, 0.7142857142857143]\n",
            " --- \n",
            "L'émission carbone pour HERSE avec TOMATE donne 0.0 kgeqCO2. Et avec POMMES DE TERRE on a 231.83999999999997 kgeqCO2. \n",
            "L'émission carbone pour BROYEUR avec TOMATE donne 96.59999999999998 kgeqCO2. Et avec POMMES DE TERRE on a 241.49999999999997 kgeqCO2. \n"
          ]
        }
      ]
    },
    {
      "cell_type": "markdown",
      "source": [
        "### *Emission Phyto :*\n"
      ],
      "metadata": {
        "id": "1ydv4zJM2cwH"
      }
    },
    {
      "cell_type": "code",
      "source": [
        "# valeurs fixes : valeurs connu de tous / d'après sources\n",
        "\n",
        "val_whisper = 1.3\n",
        "\n",
        "liste_phyto = []\n",
        "valeur_phyto = []\n",
        "EM_phyto_liste = []\n",
        "\n",
        "# user initialisation : valeurs renseigné par l'utilisateur\n",
        "\n",
        "liste_legume_phyto_nul = []\n",
        "\n",
        "\n",
        "\"\"\" à enlever cette partie \n",
        "legume_liste = []\n",
        "nbr_legume = input(\"Entrer le nombre de légumes : \")\n",
        "for i in range(int(nbr_legume)):\n",
        "  legume = input(\"Entrer le nom du légume : \")\n",
        "  legume_liste.append(legume.upper()) #important de append élément de chaque legume dans la liste\n",
        "\n",
        "à enlever cette partie  \"\"\"\n",
        "\n",
        "\n",
        "\n",
        "nbr_phyto = input(\"Entrer le nombre de Phyto au total (max 2): \")\n",
        "for i in range(int(nbr_phyto)):\n",
        "    nom_phyto = input(\"Entrer le nom du Phyto pour le légume \")\n",
        "\n",
        "    liste_phyto.append(nom_phyto.upper())\n",
        "    for j in range(int(nbr_legume)):\n",
        "      qtite_phyto = input(\"Entrer la quantité de Phyto pour le légume (en kg) \")\n",
        "      valeur_phyto.append(float(qtite_phyto))\n",
        "      if float(qtite_phyto) == float(0.0) :\n",
        "        liste_legume_phyto_nul.append(legume_liste[j])\n",
        "        EM_phyto_liste.append(float(0))\n",
        "        \n",
        "\n",
        "\n",
        "      \n",
        "\n",
        "\n",
        "\n",
        "\n",
        "# calcul (en se basant sur les 2 précédentes parties)\n",
        "\n",
        "\n",
        "for x in range(int(nbr_phyto)):\n",
        "  if \"WHISPER\" in liste_phyto[x]:\n",
        "    EM_phyto = float(valeur_phyto[x]) * float(val_whisper)\n",
        "    EM_phyto_liste.append(float(EM_phyto))\n",
        "  # rajouter autres conditions IF pour les autres valeurs de phyto\n",
        "  else:\n",
        "    EM_phyto_liste.append(float(0))\n",
        "\n",
        "\n",
        "\n",
        "print(\" --- \")\n",
        "for y in range(int(nbr_phyto)):\n",
        "  for z in range(int(nbr_legume)):\n",
        "    if legume_liste[z] not in liste_legume_phyto_nul:\n",
        "      print(f\"L'émission carbone pour le phyto : {liste_phyto[y]} avec le légume {legume_liste[z]} donne {EM_phyto_liste[y+1]} kgeqCO2. \\n\")\n",
        "    else:\n",
        "      print(f\"L'émission carbone pour le phyto : {liste_phyto[y]} avec le légume {legume_liste[z]} donne {EM_phyto_liste[y]} kgeqCO2. \\n\")"
      ],
      "metadata": {
        "id": "_EJfUqf_2fKi",
        "colab": {
          "base_uri": "https://localhost:8080/"
        },
        "outputId": "257b7211-b60c-46d4-bcbf-97f2a825ce9c"
      },
      "execution_count": null,
      "outputs": [
        {
          "output_type": "stream",
          "name": "stdout",
          "text": [
            "Entrer le nombre de Phyto au total (max 2): 1\n",
            "Entrer le nom du Phyto pour le légume whisper\n",
            "Entrer la quantité de Phyto pour le légume (en kg) 11\n",
            "Entrer la quantité de Phyto pour le légume (en kg) 0\n",
            " --- \n",
            "L'émission carbone pour le phyto : WHISPER avec le légume tomate donne 14.3 kgeqCO2. \n",
            "\n",
            "L'émission carbone pour le phyto : WHISPER avec le légume pommes de terre donne 0.0 kgeqCO2. \n",
            "\n"
          ]
        }
      ]
    },
    {
      "cell_type": "markdown",
      "source": [
        "### *Emission Livraison :*\n"
      ],
      "metadata": {
        "id": "v04GP97TTclH"
      }
    },
    {
      "cell_type": "code",
      "source": [
        "# valeurs fixes : valeurs connu de tous / d'après sources\n",
        "\n",
        "\n",
        "gazole = 0.84 # en kg/L\n",
        "emission_gazole = 2.3 # en kgeqCO2 / kg\n",
        "\n",
        "\n",
        "# user initialisation : valeurs renseigné par l'utilisateur\n",
        "\"\"\" partie à optimiser car répétition \"\"\"\n",
        "\n",
        "livraison_liste = []\n",
        "conso_livraison_liste = []\n",
        "nbr_livraison = input(\"Entrer le nombre de véhicules de livraison : \")\n",
        "for i in range(int(nbr_livraison)):\n",
        "  livraison = input(\"Entrer le nom du véhicule de livraison : \")\n",
        "  livraison_liste.append(livraison)\n",
        "  conso_livraison = input(\"Entrer la consommation du véhicule de livraison sur cette saison (en L) : \")\n",
        "  conso_livraison_liste.append(float(conso_livraison))\n",
        "\n",
        "Mprod_liste = []\n",
        "\n",
        "for x in range(int(nbr_legume)):\n",
        "  Mprod_legume = input(\"Entrer la quantitée récoltée visée du légume (en kg) : \")\n",
        "  Mprod_liste.append(float(Mprod_legume))\n",
        "\n",
        "\n",
        "\n",
        "# calcul (en se basant sur les 2 précédentes parties)\n",
        "EM_livraison_liste = []\n",
        "CR_livraison_liste = []\n",
        "EM_legume_liste = []\n",
        "\n",
        "for j in range(int(nbr_livraison)):\n",
        "  EM_livraison = conso_livraison_liste[j] * gazole * emission_gazole\n",
        "  EM_livraison_liste.append(float(EM_livraison))\n",
        "\n",
        "  for i in range(int(nbr_legume)):\n",
        "    CR_livraison = Mprod_liste[i] / (Mprod_liste[j] + Mprod_liste[j+1]) # à généraliser pour + de 2 légumes\n",
        "    CR_livraison_liste.append(float(CR_livraison))\n",
        "    EM_legume = EM_livraison_liste[j] * CR_livraison_liste[i]\n",
        "    EM_legume_liste.append(EM_legume)\n",
        "    print(\" --- \")\n",
        "    print(f\"L'émission carbone pour le légume: {legume_liste[i]} avec le véhicule de livraison : {livraison_liste[j]} donne un total de :  {EM_legume_liste[i]} kgeqCO2. \\n\")\n",
        "\n",
        "\n"
      ],
      "metadata": {
        "colab": {
          "base_uri": "https://localhost:8080/"
        },
        "id": "iquEn1GiTfjw",
        "outputId": "3ef98516-9616-42f9-8b24-012b9a371526"
      },
      "execution_count": null,
      "outputs": [
        {
          "output_type": "stream",
          "name": "stdout",
          "text": [
            "Entrer le nombre de véhicules de livraison : 1\n",
            "Entrer le nom du véhicule de livraison : kangoo\n",
            "Entrer la consommation du véhicule de livraison sur cette saison (en L) : 200\n",
            "Entrer la quantitée récoltée visée du légume (en kg) : 3000\n",
            "Entrer la quantitée récoltée visée du légume (en kg) : 12000\n",
            " --- \n",
            "L'émission carbone pour le légume: TOMATE avec le véhicule de livraison : kangoo donne un total de :  77.28 kgeqCO2. \n",
            "\n",
            " --- \n",
            "L'émission carbone pour le légume: POMMES DE TERRE avec le véhicule de livraison : kangoo donne un total de :  309.12 kgeqCO2. \n",
            "\n"
          ]
        }
      ]
    },
    {
      "cell_type": "markdown",
      "source": [
        "### *Répartition émission de la ferme :*\n"
      ],
      "metadata": {
        "id": "dUaGjOoC2bUD"
      }
    },
    {
      "cell_type": "code",
      "source": [
        "# user initialisation : valeurs renseigné par l'utilisateur\n",
        "\n",
        "EM_ferme = total_ferme\n",
        "EM_ferme_legume_liste = []\n",
        "\n",
        "\n",
        "\n",
        "# calcul (en se basant sur les 2 précédentes parties)\n",
        "\n",
        "for i in range(int(nbr_legume)):\n",
        "    EM_ferme_legume = EM_ferme * CR_livraison_liste[i]\n",
        "    EM_ferme_legume_liste.append(EM_ferme_legume)\n",
        "    print(\" --- \")\n",
        "    print(f\"L'émission carbone de la ferme pour le légume : {legume_liste[i]} donne un total de :  {EM_ferme_legume_liste[i]} kgeqCO2. \\n\")"
      ],
      "metadata": {
        "id": "UHi7cwbb24PW",
        "colab": {
          "base_uri": "https://localhost:8080/"
        },
        "outputId": "984de058-f1af-4b54-b4e1-4397cdf93af5"
      },
      "execution_count": null,
      "outputs": [
        {
          "output_type": "stream",
          "name": "stdout",
          "text": [
            " --- \n",
            "L'émission carbone de la ferme pour le légume : tomate donne un total de :  258.8 kgeqCO2. \n",
            "\n",
            " --- \n",
            "L'émission carbone de la ferme pour le légume : pommes de terre donne un total de :  1035.2 kgeqCO2. \n",
            "\n"
          ]
        }
      ]
    },
    {
      "cell_type": "markdown",
      "source": [
        "## **RESULTATS CALCUL PAR PRODUITS**\n"
      ],
      "metadata": {
        "id": "SD4owCtHA56D"
      }
    },
    {
      "cell_type": "markdown",
      "source": [
        "### *Résumé calcul Légumes :*\n"
      ],
      "metadata": {
        "id": "wZw_leGpBEpy"
      }
    },
    {
      "cell_type": "code",
      "source": [
        "EM_legume_total_liste = []\n",
        "\n",
        "for i in range(int(nbr_legume)):\n",
        "  if legume_liste[i] == \"TOMATE\":\n",
        "    EM_legume_total1 = EM_serre_legume[i] + EM_bache_legume[i] + EM_herse_legume1 + EM_broyeur_legume1 + EM_phyto_liste[i+1] + EM_legume_liste[i] + EM_ferme_legume_liste[i]\n",
        "    EM_legume_total_liste.append(EM_legume_total1)\n",
        "  elif legume_liste[i] == \"POMMES DE TERRE\":\n",
        "    EM_legume_total2 = EM_serre_legume[i] + EM_bache_legume[i] + EM_herse_legume2 + EM_broyeur_legume2 + EM_phyto_liste[i-1] + EM_legume_liste[i] + EM_ferme_legume_liste[i]\n",
        "    EM_legume_total_liste.append(EM_legume_total2)\n",
        "  print(\" --- \")\n",
        "  print(f\"L'émission carbone de la ferme pour le légume : {legume_liste[i]} donne un total de :  {EM_legume_total_liste[i]} kgeqCO2. \\n\")"
      ],
      "metadata": {
        "colab": {
          "base_uri": "https://localhost:8080/"
        },
        "id": "akcHtfePBZkH",
        "outputId": "c2ab0706-20ec-48a6-b309-bb1f2e3d62cd"
      },
      "execution_count": null,
      "outputs": [
        {
          "output_type": "stream",
          "name": "stdout",
          "text": [
            " --- \n",
            "L'émission carbone de la ferme pour le légume : TOMATE donne un total de :  944.98 kgeqCO2. \n",
            "\n",
            " --- \n",
            "L'émission carbone de la ferme pour le légume : POMMES DE TERRE donne un total de :  3235.16 kgeqCO2. \n",
            "\n"
          ]
        }
      ]
    },
    {
      "cell_type": "code",
      "source": [
        "EM_final_legume = []\n",
        "\n",
        "for i in range(int(nbr_legume)):\n",
        "  EM_final = EM_legume_total_liste[i] / Mprod_liste[i]\n",
        "  EM_final_legume.append(float(EM_final))\n",
        "  print(f\"L'émission carbone après répartition de la quantité récoltée donne :  {EM_final_legume[i]} kgeqCO2 / kg de : {legume_liste[i]}. \\n\")"
      ],
      "metadata": {
        "colab": {
          "base_uri": "https://localhost:8080/"
        },
        "id": "bfXPhJA68p53",
        "outputId": "75348305-f374-4ab4-b062-af385220707a"
      },
      "execution_count": null,
      "outputs": [
        {
          "output_type": "stream",
          "name": "stdout",
          "text": [
            "L'émission carbone après répartition de la quantité récoltée donne :  0.31499333333333335 kgeqCO2 / kg de : TOMATE. \n",
            "\n",
            "L'émission carbone après répartition de la quantité récoltée donne :  0.26959666666666665 kgeqCO2 / kg de : POMMES DE TERRE. \n",
            "\n"
          ]
        }
      ]
    },
    {
      "cell_type": "markdown",
      "source": [
        "# **OPTIMISATION DE L'ALGO**\n"
      ],
      "metadata": {
        "id": "nD_EmSAOCjnL"
      }
    },
    {
      "cell_type": "code",
      "source": [
        "\n",
        "# Valeurs fixes\n",
        "\n",
        "FE_elec = 0.06\n",
        "FE_gaz = 0.244\n",
        "val_serre_chauffee = 0 # /à compléter/ \n",
        "val_haie = 0 # /à compléter/\n",
        "val_foret = 0 # /à compléter/\n",
        "val_tracteur = 5000 / 10\n",
        "val_kangoo = 6000 / 10\n",
        "\n",
        "FE_serre_an = 9.96\n",
        "Amort_serre_an = 20.0\n",
        "\n",
        "FE_bache_an = 2.7\n",
        "Amort_bache_an = 1.0\n",
        "\n",
        "gazole = 0.84 # en kg/L\n",
        "emission_gazole = 2.3 # en kgeqCO2 / kg\n",
        "\n",
        "val_whisper = 1.3\n",
        "\n",
        "gazole = 0.84 # en kg/L\n",
        "emission_gazole = 2.3 # en kgeqCO2 / kg\n",
        "\n",
        "\n",
        "\n",
        "# Initialisation nouvelles variables\n",
        "liste_phyto = []\n",
        "valeur_phyto = []\n",
        "EM_phyto_liste = []\n",
        "liste_legume_phyto_nul = []\n",
        "\n",
        "vehicule_liste = []\n",
        "livraison_liste = []\n",
        "legume_liste = []\n",
        "EM_serre_legume = []\n",
        "CR_serre = []\n",
        "surface_liste = []\n",
        "s_bache_liste = []\n",
        "CR_bache = []\n",
        "EM_bache_legume = []\n",
        "outils_liste = []\n",
        "duree_outils_liste = []\n",
        "conso_outils_liste = []\n",
        "EM_outils = []\n",
        "EM_outils_legumes = []\n",
        "Ttot_outil_liste = []\n",
        "CR_outil_liste = []\n",
        "liste_legume_phyto_nul = []\n",
        "\n",
        "\n",
        "livraison_liste = []\n",
        "conso_livraison_liste = []\n",
        "Mprod_liste = []\n",
        "EM_livraison_liste = []\n",
        "CR_livraison_liste = []\n",
        "EM_legume_liste = []\n",
        "\n",
        "EM_ferme_legume_liste = []\n",
        "\n",
        "EM_legume_total_liste = []\n",
        "EM_final_legume = []\n",
        "EM_legume_total_liste = []\n",
        "EM_final_legume = []\n",
        "\n"
      ],
      "metadata": {
        "id": "1aNWpn-OC9VL"
      },
      "execution_count": 5,
      "outputs": []
    },
    {
      "cell_type": "code",
      "source": [
        "\n",
        "\n",
        "# Initialisation (insérer valeur)\n",
        "\n",
        "\n",
        "conso_elec_an = input(\"Entrer la conso élec par année (en kgeqCO2) \")\n",
        "conso_gaz_an = input(\"Entrer la conso gaz par année (en kgeqCO2) \")\n",
        "serre_chauffee = input(\"Serre chauffee ? \\noui: True, non : False \")\n",
        "haie = input(\"Captage haie ? \\noui : True, non : False \")\n",
        "foret  = input(\"Captage forêt ? \\noui : True, non : False \")\n",
        "nbr_vehicule = input(\"Entrer le nombre de véhicules de fabrication : \")\n",
        "nbr_livraison = input(\"Entrer le nombre de véhicules de livraison : \")\n",
        "\n",
        "\n",
        "\n",
        "\n",
        "# Calculs (une partie = une fonction)\n",
        "\n",
        "def calculFerme(conso_elec_an, conso_gaz_an, serre_chauffee, haie, foret, nbr_vehicule, nbr_livraison):\n",
        "  for i in range(int(nbr_vehicule)):\n",
        "    vehicule = input(\"Entrer le nom du véhicule de fabrication: \")\n",
        "    vehicule_liste.append(vehicule.upper())\n",
        "\n",
        "  for j in range(int(nbr_livraison)):\n",
        "    livraison = input(\"Entrer le nom du véhicule de livraison : \")\n",
        "    livraison_liste.append(livraison.upper())\n",
        "  \n",
        "  \"\"\" à modif en JS la partie du dessus \"\"\" \n",
        "\n",
        "  EM_elec = FE_elec * float(conso_elec_an)\n",
        "  EM_gaz = FE_gaz * float(conso_gaz_an)\n",
        "  emission_serre = (val_serre_chauffee if serre_chauffee == True else 0)\n",
        "  EM_prod_fabrication = (val_tracteur if \"TRACTEUR\" in vehicule_liste else 0) # rajouter les autres valeurs en imitant la même méthode\n",
        "  EM_prod_livraison = (val_kangoo if \"KANGOO\" in livraison_liste else 0) # rajouter les autres valeurs en imitant la même méthode\n",
        "  captage_haie = (val_haie if haie == True else 0)\n",
        "  captage_foret = (val_foret if foret == True else 0)\n",
        "\n",
        "  total_ferme = EM_elec + EM_gaz + EM_prod_fabrication + EM_prod_livraison + captage_haie + captage_foret\n",
        "  print(\" --- \")\n",
        "\n",
        "  print(f\"Le total émission carbone de la ferme donne {total_ferme} kgeqCO2\")\n",
        "  return total_ferme"
      ],
      "metadata": {
        "colab": {
          "base_uri": "https://localhost:8080/"
        },
        "id": "QjaUpvjIMwpR",
        "outputId": "ded76129-52ce-4284-fe1a-8995ccf7d5e1"
      },
      "execution_count": 68,
      "outputs": [
        {
          "name": "stdout",
          "output_type": "stream",
          "text": [
            "Entrer la conso élec par année (en kgeqCO2) 1200\n",
            "Entrer la conso gaz par année (en kgeqCO2) 500\n",
            "Serre chauffee ? \n",
            "oui: True, non : False False\n",
            "Captage haie ? \n",
            "oui : True, non : False False\n",
            "Captage forêt ? \n",
            "oui : True, non : False False\n",
            "Entrer le nombre de véhicules de fabrication : 1\n",
            "Entrer le nombre de véhicules de livraison : 1\n"
          ]
        }
      ]
    },
    {
      "cell_type": "code",
      "source": [
        "calculFerme(conso_elec_an, conso_gaz_an, serre_chauffee, haie, foret, nbr_vehicule, nbr_livraison)"
      ],
      "metadata": {
        "colab": {
          "base_uri": "https://localhost:8080/"
        },
        "id": "3sLPsVITMywr",
        "outputId": "83dbcfd8-6850-47ca-b89c-3f4e2e45139f"
      },
      "execution_count": 69,
      "outputs": [
        {
          "output_type": "stream",
          "name": "stdout",
          "text": [
            "Entrer le nom du véhicule de fabrication: TRACTEUR\n",
            "Entrer le nom du véhicule de livraison : KANGOO\n",
            " --- \n",
            "Le total émission carbone de la ferme donne 1294.0 kgeqCO2\n"
          ]
        },
        {
          "output_type": "execute_result",
          "data": {
            "text/plain": [
              "1294.0"
            ]
          },
          "metadata": {},
          "execution_count": 69
        }
      ]
    },
    {
      "cell_type": "code",
      "source": [
        "# Initialisation (insérer valeur)\n",
        "\n",
        "S_serre = input(\"Entrer la surface de la serre (en m carrée) : \")\n",
        "nbr_legume = input(\"Entrer le nombre de légumes : \")\n",
        "\n",
        "\n",
        "# Calculs (une partie = une fonction)\n",
        "\n",
        "def EMSerre(S_serre, nbr_legume):\n",
        "  for i in range(int(nbr_legume)):\n",
        "   legume = input(\"Entrer le nom du légume : \")\n",
        "   legume_liste.append(legume.upper())\n",
        "   S_legume = input(\"Entrer la surface de la serre prise par le légume (en m carrée) \")\n",
        "   surface_liste.append(float(S_legume))    \n",
        "\n",
        "  \"\"\" à modif en JS la partie du dessus \"\"\" \n",
        "\n",
        "  EM_serre = float(S_serre) * FE_serre_an / Amort_serre_an\n",
        "  for i in range(int(nbr_legume)):\n",
        "   CR_serre_legume = float(surface_liste[i])/float(S_serre)\n",
        "   CR_serre.append(CR_serre_legume)\n",
        "   EM_par_legume = EM_serre * CR_serre[i]\n",
        "   EM_serre_legume.append(EM_par_legume)\n",
        "\n",
        "  print(\" --- \")\n",
        "  print(f\"L'émission carbone de la serre pour {legume_liste[0]} donne {EM_serre_legume[0]} kgeqCO2. \\nCelle pour {legume_liste[1]} donne {EM_serre_legume[1]} kgeqCO2. \")\n"
      ],
      "metadata": {
        "colab": {
          "base_uri": "https://localhost:8080/"
        },
        "id": "QFZpDa_zPQhw",
        "outputId": "a4615eb4-e2cf-4f5a-9069-fd8e1b86d41e"
      },
      "execution_count": 10,
      "outputs": [
        {
          "name": "stdout",
          "output_type": "stream",
          "text": [
            "Entrer la surface de la serre (en m carrée) : 1000\n",
            "Entrer le nombre de légumes : 2\n"
          ]
        }
      ]
    },
    {
      "cell_type": "code",
      "source": [
        "EMSerre(S_serre, nbr_legume)"
      ],
      "metadata": {
        "colab": {
          "base_uri": "https://localhost:8080/"
        },
        "id": "AX51RE5SRZY_",
        "outputId": "18c24e4a-6998-4daf-f665-eab1178b3e59"
      },
      "execution_count": 11,
      "outputs": [
        {
          "output_type": "stream",
          "name": "stdout",
          "text": [
            "Entrer le nom du légume : TOMATE\n",
            "Entrer la surface de la serre prise par le légume (en m carrée) 1000\n",
            "Entrer le nom du légume : POMMES DE TERRE\n",
            "Entrer la surface de la serre prise par le légume (en m carrée) 0\n",
            " --- \n",
            "L'émission carbone de la serre pour TOMATE donne 498.0 kgeqCO2. \n",
            "Celle pour POMMES DE TERRE donne 0.0 kgeqCO2. \n"
          ]
        }
      ]
    },
    {
      "cell_type": "code",
      "source": [
        "# Initialisation (insérer valeur)\n",
        "S_bache = input(\"Entrer la surface de la bâche (en m carrée) : \")\n",
        "\n",
        "\n",
        "\n",
        "# Calculs (une partie = une fonction)\n",
        "\n",
        "def EMBache(S_bache, nbr_legume):\n",
        "  for i in range(int(nbr_legume)):\n",
        "    S_bache_legume = input(\"Entrer la surface de la bâche prise par le légume (en m carrée) \")\n",
        "    s_bache_liste.append(float(S_bache_legume))\n",
        "  \n",
        "  \"\"\" à modif en JS la partie du dessus \"\"\" \n",
        "  \n",
        "  EM_bache = float(S_bache) * FE_bache_an / Amort_bache_an\n",
        "  for i in range(int(nbr_legume)):\n",
        "    CR_bache_legume = float(s_bache_liste[i])/float(S_bache)\n",
        "    CR_bache.append(CR_bache_legume)\n",
        "    EM_bache_par_legume = EM_bache * CR_bache[i]\n",
        "    EM_bache_legume.append(EM_bache_par_legume)\n",
        "\n",
        "  print(\" --- \")\n",
        "  print(f\"L'émission carbone de la bâche pour {legume_liste[0]} donne {EM_bache_legume[0]} kgeqCO2. \\nCelle pour {legume_liste[1]} donne {EM_bache_legume[1]} kgeqCO2. \")\n"
      ],
      "metadata": {
        "colab": {
          "base_uri": "https://localhost:8080/"
        },
        "id": "N8fF5gZiSKat",
        "outputId": "78f3fe8f-eec1-46f9-c817-f66d9e377306"
      },
      "execution_count": 12,
      "outputs": [
        {
          "name": "stdout",
          "output_type": "stream",
          "text": [
            "Entrer la surface de la bâche (en m carrée) : 525\n"
          ]
        }
      ]
    },
    {
      "cell_type": "code",
      "source": [
        "EMBache(S_bache, nbr_legume)"
      ],
      "metadata": {
        "colab": {
          "base_uri": "https://localhost:8080/"
        },
        "id": "b2b-aZwuS4Bs",
        "outputId": "c143322f-4e09-4c94-893f-ba74f83cd887"
      },
      "execution_count": 13,
      "outputs": [
        {
          "output_type": "stream",
          "name": "stdout",
          "text": [
            "Entrer la surface de la bâche prise par le légume (en m carrée) 0\n",
            "Entrer la surface de la bâche prise par le légume (en m carrée) 525\n",
            " --- \n",
            "L'émission carbone de la bâche pour TOMATE donne 0.0 kgeqCO2. \n",
            "Celle pour POMMES DE TERRE donne 1417.5 kgeqCO2. \n"
          ]
        }
      ]
    },
    {
      "cell_type": "code",
      "source": [
        "# Initialisation (insérer valeur)\n",
        "\n",
        "nbr_outils = input(\"Entrer le nombre d'outils (max 2): \")\n",
        "\n",
        "\n",
        "# Calculs (une partie = une fonction)\n",
        "\n",
        "def EMOutils(nbr_outils, nbr_legume):\n",
        "  for i in range(int(nbr_outils)):\n",
        "    outil = input(\"Entrer le nom de l'outil: \")\n",
        "    outils_liste.append(outil)\n",
        "    duree_outil = input(\"Entrer la durée d'utilisation de l'outil (en h) : \")\n",
        "    duree_outils_liste.append(float(duree_outil))\n",
        "    conso_outil = input(\"Entrer la consommation (en L/h) de l'outil : \")\n",
        "    conso_outils_liste.append(float(conso_outil))\n",
        "\n",
        "\n",
        "  for i in range(int(nbr_outils)):\n",
        "    EM_outil = float(conso_outils_liste[i]) * gazole * emission_gazole * float(duree_outils_liste[i])\n",
        "    EM_outils.append(EM_outil)\n",
        "  \n",
        "    for j in range(int(nbr_legume)):\n",
        "      Ttot_outil_legume = input(\"Entrer la durée d'utilisation (en h) de l'outil sur le légume \")\n",
        "      Ttot_outil_liste.append(float(Ttot_outil_legume))\n",
        "    \n",
        "      CR_outil = Ttot_outil_liste[j+2*i]/duree_outils_liste[i]\n",
        "      CR_outil_liste.append(float(CR_outil))\n",
        "\n",
        "\n",
        "\n",
        "  EM_herse_legume1 = EM_outils[0] * CR_outil_liste[0]\n",
        "  EM_herse_legume2 = EM_outils[0] * CR_outil_liste[1]\n",
        "  EM_broyeur_legume1 = EM_outils[1] * CR_outil_liste[2]\n",
        "  EM_broyeur_legume2 = EM_outils[1] * CR_outil_liste[3]\n",
        "\n",
        "\n",
        "\n",
        "  print(\" --- \")\n",
        "\n",
        "  print(f\"L'émission carbone pour {outils_liste[0]} avec {legume_liste[0]} donne {EM_herse_legume1} kgeqCO2. Et avec {legume_liste[1]} on a {EM_herse_legume2} kgeqCO2. \\nL'émission carbone pour {outils_liste[1]} avec {legume_liste[0]} donne {EM_broyeur_legume1} kgeqCO2. Et avec {legume_liste[1]} on a {EM_broyeur_legume2} kgeqCO2. \")"
      ],
      "metadata": {
        "colab": {
          "base_uri": "https://localhost:8080/"
        },
        "id": "ZrUr2jVNTYzk",
        "outputId": "7c18609a-990b-4140-e023-dbc8d7b67329"
      },
      "execution_count": 35,
      "outputs": [
        {
          "name": "stdout",
          "output_type": "stream",
          "text": [
            "Entrer le nombre d'outils (max 2): 2\n"
          ]
        }
      ]
    },
    {
      "cell_type": "code",
      "source": [
        "EMOutils(nbr_outils,nbr_legume)"
      ],
      "metadata": {
        "colab": {
          "base_uri": "https://localhost:8080/"
        },
        "id": "1NpheFfHTYoJ",
        "outputId": "3ff37f93-3744-4d2c-a8ed-06d1bda57f45"
      },
      "execution_count": 36,
      "outputs": [
        {
          "output_type": "stream",
          "name": "stdout",
          "text": [
            "Entrer le nom de l'outil: HERSE\n",
            "Entrer la durée d'utilisation de l'outil (en h) : 10\n",
            "Entrer la consommation (en L/h) de l'outil : 12\n",
            "Entrer le nom de l'outil: BROYEUR\n",
            "Entrer la durée d'utilisation de l'outil (en h) : 7\n",
            "Entrer la consommation (en L/h) de l'outil : 25\n",
            "Entrer la durée d'utilisation (en h) de l'outil sur le légume 2\n",
            "Entrer la durée d'utilisation (en h) de l'outil sur le légume 5\n",
            "Entrer la durée d'utilisation (en h) de l'outil sur le légume 0\n",
            "Entrer la durée d'utilisation (en h) de l'outil sur le légume 10\n",
            " --- \n",
            "L'émission carbone pour HERSE avec TOMATE donne 0.0 kgeqCO2. Et avec POMMES DE TERRE on a 46.367999999999995 kgeqCO2. \n",
            "L'émission carbone pour BROYEUR avec TOMATE donne 96.59999999999998 kgeqCO2. Et avec POMMES DE TERRE on a 96.59999999999998 kgeqCO2. \n"
          ]
        }
      ]
    },
    {
      "cell_type": "code",
      "source": [
        "print(EM_outils)\n",
        "print(CR_outil_liste)\n"
      ],
      "metadata": {
        "colab": {
          "base_uri": "https://localhost:8080/"
        },
        "id": "Lxc8FOmoeDG0",
        "outputId": "fe5ede89-affd-4b48-89b1-ca55e716953a"
      },
      "execution_count": 37,
      "outputs": [
        {
          "output_type": "stream",
          "name": "stdout",
          "text": [
            "[231.83999999999997, 338.09999999999997, 231.83999999999997, 338.09999999999997, 231.83999999999997, 338.09999999999997, 231.83999999999997, 338.09999999999997, 231.83999999999997, 338.09999999999997, 231.83999999999997, 338.09999999999997, 231.83999999999997, 338.09999999999997, 231.83999999999997, 338.09999999999997]\n",
            "[0.0, 0.2, 0.2857142857142857, 0.2857142857142857, 0.0, 0.2, 0.2857142857142857, 0.2857142857142857, 0.0, 0.2, 0.2857142857142857, 0.2857142857142857, 0.0, 0.2, 0.2857142857142857, 0.2857142857142857, 0.0, 0.2, 0.2857142857142857, 0.2857142857142857, 0.0, 0.2, 0.2857142857142857, 0.2857142857142857]\n"
          ]
        }
      ]
    },
    {
      "cell_type": "code",
      "source": [
        "\n",
        "# initialisation\n",
        "nbr_outils = input(\"Entrer le nombre d'outils (max 2): \")\n",
        "\n",
        "\n",
        "# Calculs (une partie = une fonction)\n",
        "def EMoutils(nbr_outils, nbr_legume):\n",
        "  for i in range(int(nbr_outils)):\n",
        "    outil = input(\"Entrer le nom de l'outil: \")\n",
        "    outils_liste.append(outil)\n",
        "    duree_outil = input(\"Entrer la durée d'utilisation de l'outil (en h) : \")\n",
        "    duree_outils_liste.append(float(duree_outil))\n",
        "    conso_outil = input(\"Entrer la consommation (en L/h) de l'outil : \")\n",
        "    conso_outils_liste.append(float(conso_outil))\n",
        "    EM_outil = float(conso_outils_liste[i]) * gazole * emission_gazole * float(duree_outils_liste[i])\n",
        "    EM_outils.append(EM_outil)\n",
        "  \n",
        "    for j in range(int(nbr_legume)):\n",
        "      Ttot_outil_legume = input(\"Entrer la durée d'utilisation (en h) de l'outil sur le légume \")\n",
        "      Ttot_outil_liste.append(float(Ttot_outil_legume))\n",
        "      \n",
        "      CR_outil = Ttot_outil_liste[j+2*i]/duree_outils_liste[i]\n",
        "      CR_outil_liste.append(float(CR_outil))\n",
        "\n",
        "\n",
        "  EM_herse_legume1 = EM_outils[0] * CR_outil_liste[0]\n",
        "  EM_herse_legume2 = EM_outils[0] * CR_outil_liste[1]\n",
        "  EM_broyeur_legume1 = EM_outils[1] * CR_outil_liste[2]\n",
        "  EM_broyeur_legume2 = EM_outils[1] * CR_outil_liste[3]\n",
        "\n",
        "\n",
        "\n",
        "\n",
        "  print(\" --- \")\n",
        "\n",
        "  print(f\"L'émission carbone pour {outils_liste[0]} avec {legume_liste[0]} donne {EM_herse_legume1} kgeqCO2. Et avec {legume_liste[1]} on a {EM_herse_legume2} kgeqCO2. \\nL'émission carbone pour {outils_liste[1]} avec {legume_liste[0]} donne {EM_broyeur_legume1} kgeqCO2. Et avec {legume_liste[1]} on a {EM_broyeur_legume2} kgeqCO2. \")"
      ],
      "metadata": {
        "colab": {
          "base_uri": "https://localhost:8080/"
        },
        "id": "gjz44mfHh3Mi",
        "outputId": "8158b37a-2972-4501-c1bd-af195d4d9af2"
      },
      "execution_count": 44,
      "outputs": [
        {
          "name": "stdout",
          "output_type": "stream",
          "text": [
            "Entrer le nombre d'outils (max 2): 2\n"
          ]
        }
      ]
    },
    {
      "cell_type": "code",
      "source": [
        "EMOutils(nbr_outils, nbr_legume)"
      ],
      "metadata": {
        "colab": {
          "base_uri": "https://localhost:8080/"
        },
        "id": "OvQLTYOAjcOu",
        "outputId": "9dfb42b6-9cf7-4136-d3ba-e61a88185c94"
      },
      "execution_count": 46,
      "outputs": [
        {
          "output_type": "stream",
          "name": "stdout",
          "text": [
            "Entrer le nom de l'outil: HERSE\n",
            "Entrer la durée d'utilisation de l'outil (en h) : 10\n",
            "Entrer la consommation (en L/h) de l'outil : 12\n",
            "Entrer le nom de l'outil: BROYEUR\n",
            "Entrer la durée d'utilisation de l'outil (en h) : 7\n",
            "Entrer la consommation (en L/h) de l'outil : 25\n",
            "Entrer la durée d'utilisation (en h) de l'outil sur le légume 0\n",
            "Entrer la durée d'utilisation (en h) de l'outil sur le légume 10\n",
            "Entrer la durée d'utilisation (en h) de l'outil sur le légume 2\n",
            "Entrer la durée d'utilisation (en h) de l'outil sur le légume 5\n",
            " --- \n",
            "L'émission carbone pour HERSE avec TOMATE donne 0.0 kgeqCO2. Et avec POMMES DE TERRE on a 231.83999999999997 kgeqCO2. \n",
            "L'émission carbone pour BROYEUR avec TOMATE donne 96.59999999999998 kgeqCO2. Et avec POMMES DE TERRE on a 241.49999999999997 kgeqCO2. \n"
          ]
        }
      ]
    },
    {
      "cell_type": "code",
      "source": [
        "# initialisation\n",
        "\n",
        "nbr_phyto = input(\"Entrer le nombre de Phyto au total (max 2): \")\n",
        "\n",
        "# Calculs (une partie = une fonction)\n",
        "\n",
        "def EMPhyto(nbr_phyto, nbr_legume):\n",
        "  for i in range(int(nbr_phyto)):\n",
        "      nom_phyto = input(\"Entrer le nom du Phyto pour le légume \")\n",
        "      liste_phyto.append(nom_phyto.upper())\n",
        "      for j in range(int(nbr_legume)):\n",
        "        qtite_phyto = input(\"Entrer la quantité de Phyto pour le légume (en kg) \")\n",
        "        valeur_phyto.append(float(qtite_phyto))\n",
        "        if float(qtite_phyto) == float(0.0):\n",
        "          liste_legume_phyto_nul.append(legume_liste[j])\n",
        "          EM_phyto_liste.append(float(0))\n",
        "      if \"WHISPER\" in liste_phyto[i]:\n",
        "        EM_phyto = float(valeur_phyto[i]) * float(val_whisper)\n",
        "        EM_phyto_liste.append(float(EM_phyto))\n",
        "      # rajouter autres conditions IF pour les autres valeurs de phyto\n",
        "      else:\n",
        "        EM_phyto_liste.append(float(0))\n",
        "\n",
        "  print(\" --- \")\n",
        "  for y in range(int(nbr_phyto)):\n",
        "    for z in range(int(nbr_legume)):\n",
        "      if legume_liste[z] not in liste_legume_phyto_nul:\n",
        "        print(f\"L'émission carbone pour le phyto : {liste_phyto[y]} avec le légume {legume_liste[z]} donne {EM_phyto_liste[y+1]} kgeqCO2. \\n\")\n",
        "      else:\n",
        "        print(f\"L'émission carbone pour le phyto : {liste_phyto[y]} avec le légume {legume_liste[z]} donne {EM_phyto_liste[y]} kgeqCO2. \\n\")"
      ],
      "metadata": {
        "colab": {
          "base_uri": "https://localhost:8080/"
        },
        "id": "mHwbnWuXk-wy",
        "outputId": "12f04e7a-1e18-4b53-f6a4-9d108a2a9aed"
      },
      "execution_count": 53,
      "outputs": [
        {
          "name": "stdout",
          "output_type": "stream",
          "text": [
            "Entrer le nombre de Phyto au total (max 2): 1\n"
          ]
        }
      ]
    },
    {
      "cell_type": "code",
      "source": [
        "EMPhyto(nbr_phyto, nbr_legume)"
      ],
      "metadata": {
        "colab": {
          "base_uri": "https://localhost:8080/"
        },
        "id": "vPlnup4MlqjI",
        "outputId": "d8efd42e-8e93-4533-c72d-3bd27f812c8b"
      },
      "execution_count": 54,
      "outputs": [
        {
          "output_type": "stream",
          "name": "stdout",
          "text": [
            "Entrer le nom du Phyto pour le légume WHISPER\n",
            "Entrer la quantité de Phyto pour le légume (en kg) 11\n",
            "Entrer la quantité de Phyto pour le légume (en kg) 0\n",
            " --- \n",
            "L'émission carbone pour le phyto : WHISPER avec le légume TOMATE donne 14.3 kgeqCO2. \n",
            "\n",
            "L'émission carbone pour le phyto : WHISPER avec le légume POMMES DE TERRE donne 0.0 kgeqCO2. \n",
            "\n"
          ]
        }
      ]
    },
    {
      "cell_type": "code",
      "source": [
        "\n",
        "\n",
        "# Initialisation\n",
        "\n",
        "\n",
        "nbr_livraison = input(\"Entrer le nombre de véhicules de livraison : \")\n",
        "\n",
        "\n",
        "# Calculs (une partie = une fonction)\n",
        "\n",
        "def EMLivraison(nbr_livraison, nbr_legume):\n",
        "\n",
        "  for i in range(int(nbr_livraison)):\n",
        "    livraison = input(\"Entrer le nom du véhicule de livraison : \")\n",
        "    livraison_liste.append(livraison)\n",
        "    conso_livraison = input(\"Entrer la consommation du véhicule de livraison sur cette saison (en L) : \")\n",
        "    conso_livraison_liste.append(float(conso_livraison))\n",
        "\n",
        "  for x in range(int(nbr_legume)):\n",
        "    Mprod_legume = input(\"Entrer la quantitée récoltée visée du légume (en kg) : \")\n",
        "    Mprod_liste.append(float(Mprod_legume))\n",
        "\n",
        "  \"\"\" à modif en JS la partie du dessus \"\"\" \n",
        "\n",
        "  for j in range(int(nbr_livraison)):\n",
        "    EM_livraison = conso_livraison_liste[j] * gazole * emission_gazole\n",
        "    EM_livraison_liste.append(float(EM_livraison))\n",
        "\n",
        "    for i in range(int(nbr_legume)):\n",
        "      CR_livraison = Mprod_liste[i] / (Mprod_liste[j] + Mprod_liste[j+1]) # à généraliser pour + de 2 légumes\n",
        "      CR_livraison_liste.append(float(CR_livraison))\n",
        "      EM_legume = EM_livraison_liste[j] * CR_livraison_liste[i]\n",
        "      EM_legume_liste.append(EM_legume)\n",
        "      print(\" --- \")\n",
        "      print(f\"L'émission carbone pour le légume: {legume_liste[i]} avec le véhicule de livraison : {livraison_liste[j]} donne un total de :  {EM_legume_liste[i]} kgeqCO2. \\n\")"
      ],
      "metadata": {
        "colab": {
          "base_uri": "https://localhost:8080/"
        },
        "id": "PBefak3SmSWB",
        "outputId": "51899f3f-3bd9-4125-8fdb-66e528e06d4c"
      },
      "execution_count": 65,
      "outputs": [
        {
          "name": "stdout",
          "output_type": "stream",
          "text": [
            "Entrer le nombre de véhicules de livraison : 1\n"
          ]
        }
      ]
    },
    {
      "cell_type": "code",
      "source": [
        "EMLivraison(nbr_livraison, nbr_legume)"
      ],
      "metadata": {
        "colab": {
          "base_uri": "https://localhost:8080/"
        },
        "id": "wpSxnUxxm96l",
        "outputId": "21263629-f23b-42ee-8fe0-b706298eddda"
      },
      "execution_count": 66,
      "outputs": [
        {
          "output_type": "stream",
          "name": "stdout",
          "text": [
            "Entrer le nom du véhicule de livraison : KANGOO\n",
            "Entrer la consommation du véhicule de livraison sur cette saison (en L) : 200\n",
            "Entrer la quantitée récoltée visée du légume (en kg) : 3000\n",
            "Entrer la quantitée récoltée visée du légume (en kg) : 12000\n",
            " --- \n",
            "L'émission carbone pour le légume: TOMATE avec le véhicule de livraison : KANGOO donne un total de :  77.28 kgeqCO2. \n",
            "\n",
            " --- \n",
            "L'émission carbone pour le légume: POMMES DE TERRE avec le véhicule de livraison : KANGOO donne un total de :  309.12 kgeqCO2. \n",
            "\n"
          ]
        }
      ]
    },
    {
      "cell_type": "code",
      "source": [
        "# initialisation\n",
        "\n",
        "EM_ferme = int(calculFerme(conso_elec_an, conso_gaz_an, serre_chauffee, haie, foret, nbr_vehicule, nbr_livraison))\n",
        "\n",
        "# Calculs (une partie = une fonction)\n",
        "def repartitionFerme(EM_ferme, nbr_legume):\n",
        "  for i in range(int(nbr_legume)):\n",
        "    EM_ferme_legume = EM_ferme * CR_livraison_liste[i]\n",
        "    EM_ferme_legume_liste.append(EM_ferme_legume)\n",
        "    print(\" --- \")\n",
        "    print(f\"L'émission carbone de la ferme pour le légume : {legume_liste[i]} donne un total de :  {EM_ferme_legume_liste[i]} kgeqCO2. \\n\")"
      ],
      "metadata": {
        "colab": {
          "base_uri": "https://localhost:8080/"
        },
        "id": "seFzMMjaouJ_",
        "outputId": "217d3f9b-4dbf-423c-8f0c-d62fde7afb27"
      },
      "execution_count": 71,
      "outputs": [
        {
          "output_type": "stream",
          "name": "stdout",
          "text": [
            "Entrer le nom du véhicule de fabrication: TRACTEUR\n",
            "Entrer le nom du véhicule de livraison : KANGOO\n",
            " --- \n",
            "Le total émission carbone de la ferme donne 1294.0 kgeqCO2\n"
          ]
        }
      ]
    },
    {
      "cell_type": "code",
      "source": [
        "repartitionFerme(EM_ferme, nbr_legume)"
      ],
      "metadata": {
        "colab": {
          "base_uri": "https://localhost:8080/"
        },
        "id": "3O5Va4-Xq3nl",
        "outputId": "e71c01cb-ca4f-44f6-ddfa-f45b75a83d07"
      },
      "execution_count": 72,
      "outputs": [
        {
          "output_type": "stream",
          "name": "stdout",
          "text": [
            " --- \n",
            "L'émission carbone de la ferme pour le légume : TOMATE donne un total de :  258.8 kgeqCO2. \n",
            "\n",
            " --- \n",
            "L'émission carbone de la ferme pour le légume : POMMES DE TERRE donne un total de :  1035.2 kgeqCO2. \n",
            "\n"
          ]
        }
      ]
    },
    {
      "cell_type": "code",
      "source": [
        "# Calculs (une partie = une fonction)\n",
        "def EMLegume(nbr_legume):\n",
        "  for i in range(int(nbr_legume)):\n",
        "    if legume_liste[i] == \"TOMATE\":\n",
        "      EM_legume_total1 = EM_serre_legume[i] + EM_bache_legume[i] + EM_herse_legume1 + EM_broyeur_legume1 + EM_phyto_liste[i+1] + EM_legume_liste[i] + EM_ferme_legume_liste[i]\n",
        "      EM_legume_total_liste.append(EM_legume_total1)\n",
        "    elif legume_liste[i] == \"POMMES DE TERRE\":\n",
        "      EM_legume_total2 = EM_serre_legume[i] + EM_bache_legume[i] + EM_herse_legume2 + EM_broyeur_legume2 + EM_phyto_liste[i-1] + EM_legume_liste[i] + EM_ferme_legume_liste[i]\n",
        "      EM_legume_total_liste.append(EM_legume_total2)\n",
        "    print(\" --- \")\n",
        "    print(f\"L'émission carbone de la ferme pour le légume : {legume_liste[i]} donne un total de :  {EM_legume_total_liste[i]} kgeqCO2. \\n\")"
      ],
      "metadata": {
        "id": "D0kifhzcqNdH"
      },
      "execution_count": 73,
      "outputs": []
    },
    {
      "cell_type": "code",
      "source": [
        "EMLegume(nbr_legume)"
      ],
      "metadata": {
        "colab": {
          "base_uri": "https://localhost:8080/"
        },
        "id": "Qv7H43gerZip",
        "outputId": "0fe03947-3449-4311-969b-f2a884278c13"
      },
      "execution_count": 74,
      "outputs": [
        {
          "output_type": "stream",
          "name": "stdout",
          "text": [
            " --- \n",
            "L'émission carbone de la ferme pour le légume : TOMATE donne un total de :  944.98 kgeqCO2. \n",
            "\n",
            " --- \n",
            "L'émission carbone de la ferme pour le légume : POMMES DE TERRE donne un total de :  3235.16 kgeqCO2. \n",
            "\n"
          ]
        }
      ]
    },
    {
      "cell_type": "code",
      "source": [
        "\n",
        "def EMfinalLegume(nbr_legume):\n",
        "  for i in range(int(nbr_legume)):\n",
        "    EM_final = EM_legume_total_liste[i] / Mprod_liste[i]\n",
        "    EM_final_legume.append(float(EM_final))\n",
        "    print(f\"L'émission carbone après répartition de la quantité récoltée donne :  {EM_final_legume[i]} kgeqCO2 / kg de : {legume_liste[i]}. \\n\")"
      ],
      "metadata": {
        "id": "nsDQhZeDrgq5"
      },
      "execution_count": 75,
      "outputs": []
    },
    {
      "cell_type": "code",
      "source": [
        "EMfinalLegume(nbr_legume)"
      ],
      "metadata": {
        "colab": {
          "base_uri": "https://localhost:8080/"
        },
        "id": "qVDuB3ACrrgq",
        "outputId": "a9d357ad-a374-4fe0-9235-a7b7ea8d165c"
      },
      "execution_count": 76,
      "outputs": [
        {
          "output_type": "stream",
          "name": "stdout",
          "text": [
            "L'émission carbone après répartition de la quantité récoltée donne :  0.31499333333333335 kgeqCO2 / kg de : TOMATE. \n",
            "\n",
            "L'émission carbone après répartition de la quantité récoltée donne :  0.26959666666666665 kgeqCO2 / kg de : POMMES DE TERRE. \n",
            "\n"
          ]
        }
      ]
    }
  ]
}